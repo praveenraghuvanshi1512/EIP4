{
  "nbformat": 4,
  "nbformat_minor": 0,
  "metadata": {
    "colab": {
      "name": "EIP4_A1_Praveen_Raghuvanshi.ipynb",
      "provenance": [],
      "collapsed_sections": [],
      "include_colab_link": true
    },
    "kernelspec": {
      "name": "python3",
      "display_name": "Python 3"
    },
    "accelerator": "GPU"
  },
  "cells": [
    {
      "cell_type": "markdown",
      "metadata": {
        "id": "view-in-github",
        "colab_type": "text"
      },
      "source": [
        "<a href=\"https://colab.research.google.com/github/praveenraghuvanshi1512/EIP4/blob/master/Session1/Assignment1/EIP4_A1_Praveen_Raghuvanshi.ipynb\" target=\"_parent\"><img src=\"https://colab.research.google.com/assets/colab-badge.svg\" alt=\"Open In Colab\"/></a>"
      ]
    },
    {
      "cell_type": "markdown",
      "metadata": {
        "id": "iyzs3EgT70PN",
        "colab_type": "text"
      },
      "source": [
        "# EIP-4 Assignment - I [Praveen Raghuvanshi]"
      ]
    },
    {
      "cell_type": "markdown",
      "metadata": {
        "id": "97usDbqc9S8p",
        "colab_type": "text"
      },
      "source": [
        "### Problem Definition\n",
        "\n",
        "1. Visit this [link](https://colab.research.google.com/drive/1gZYwZdkgXBJRr624SqWJ9f452BmKNkNT#scrollTo=7eRM0QWN83PV). Take sometime to understand the code. \n",
        "2. Change the model in such a way that after executing the code below, your accuracy print out is more than 99.0\n",
        "    1. score = model.evaluate(X_text, Y_text, verbose=0)\n",
        "    2. print(score)\n",
        "3. Once you are done, upload the code to your GitHub Repo. (Use this link to learn how to use GitHub). \n"
      ]
    },
    {
      "cell_type": "markdown",
      "metadata": {
        "id": "y-vCxbWyvlpj",
        "colab_type": "text"
      },
      "source": [
        "### Pre-Analysis\n",
        "- MNIST dataset containing hand-written digits 0-9\n",
        "- Total images : 70000\n",
        "- Training images : 60000\n",
        "- Test images : 10000\n",
        "- Image size : 28 x 28 \n",
        "- Channel : 1 (Black and White)\n",
        "- Each image is an 28 x 28 array with (28 x 28 = 784) pixels\n",
        "- Value of each pixel varies between 0-1 with zero representing white and 1 representing black\n",
        "- Image size is small, MP could be applied at initial layer"
      ]
    },
    {
      "cell_type": "markdown",
      "metadata": {
        "id": "AMw1pNbPpvWo",
        "colab_type": "text"
      },
      "source": [
        "## Summary/Results\n",
        "\n",
        "Runtime: GPU\n",
        "\n",
        "| S.No | Iteration | # Layers | Kernel(Initial) | MP | # Epochs | Batch Size | # Parameters | Acc | Test Acc | Time/Epoch | Analysis |\n",
        "|------|-----------|----------|-----------------|----|----------|------------|--------------|-----|---------|------|----------|\n",
        "| 1    | Default   | 6        |   3x3           | -- | 10       |  32        |    68,260     |99.62| 98.29    | 18s| [Reference](https://colab.research.google.com/drive/1gZYwZdkgXBJRr624SqWJ9f452BmKNkNT#scrollTo=TzdAYg1k9K7Z)         |\n",
        "| 2    | Zero      | 6        |   3x3           | -- | 10       |  32        |    68,260     |92.55| 92.53    | 13s| Same as [Reference](https://colab.research.google.com/drive/1gZYwZdkgXBJRr624SqWJ9f452BmKNkNT#scrollTo=TzdAYg1k9K7Z) Acc Reduced\n",
        "| 3    | First      | same        |   same           | -- | same       |  same        |    same     |99.59| 98.03    | 7s| Same as [Reference](https://colab.research.google.com/drive/1gZYwZdkgXBJRr624SqWJ9f452BmKNkNT#scrollTo=TzdAYg1k9K7Z) Acc increased just by running again. Time reduced |\n",
        "| 4    | Second      | 11        |   same           | -- | same       |  same        |    6,323,476     |99.65| 98.9    | 51s| Layers increased(6 -> 11), Acc improved. Time increased, Parameters increased by 10 times,  |\n",
        "| 5    | Third      | same        |   same           | -- | 30       |  same        |    6,323,476     |99.72| 99.08    | 51s| Epochs increased(10 -> 30), Acc improved. Crossed 99%\n",
        "\n",
        "#### Results\n",
        "- Accuracy crossed 99% - 99.08%\n",
        "   - Increased layer 6 -> 11\n",
        "   - Increased Epochs 10 -> 30\n"
      ]
    },
    {
      "cell_type": "markdown",
      "metadata": {
        "id": "aNyZv-Ec52ot",
        "colab_type": "text"
      },
      "source": [
        "# **Import Libraries and modules**"
      ]
    },
    {
      "cell_type": "code",
      "metadata": {
        "id": "IEPF6t9X_ziM",
        "colab_type": "code",
        "colab": {}
      },
      "source": [
        "# Install keras\n",
        "# https://keras.io/\n",
        "!pip install -q keras\n",
        "import keras"
      ],
      "execution_count": 0,
      "outputs": []
    },
    {
      "cell_type": "code",
      "metadata": {
        "id": "lXWRmjBwBG84",
        "colab_type": "code",
        "colab": {}
      },
      "source": [
        "# Import packages\n",
        "\n",
        "import numpy as np\n",
        "\n",
        "from keras.models import Sequential\n",
        "from keras.layers import Dense, Dropout, Activation, Flatten, Add\n",
        "from keras.layers import Convolution2D, MaxPooling2D\n",
        "from keras.utils import np_utils\n",
        "\n",
        "from keras.datasets import mnist"
      ],
      "execution_count": 0,
      "outputs": []
    },
    {
      "cell_type": "markdown",
      "metadata": {
        "id": "zByEi95J86RD",
        "colab_type": "text"
      },
      "source": [
        "### Load pre-shuffled MNIST data into train and test sets"
      ]
    },
    {
      "cell_type": "code",
      "metadata": {
        "id": "5_BgNRwSBYOs",
        "colab_type": "code",
        "colab": {}
      },
      "source": [
        "# Load MNIST dataset into train and test dataset\n",
        "(X_train, y_train), (X_test, y_test) = mnist.load_data()"
      ],
      "execution_count": 0,
      "outputs": []
    },
    {
      "cell_type": "code",
      "metadata": {
        "id": "lx-Ewr9qBpkz",
        "colab_type": "code",
        "outputId": "37d79ee3-890e-4a8d-a3c0-b0adaf4f331f",
        "colab": {
          "base_uri": "https://localhost:8080/",
          "height": 298
        }
      },
      "source": [
        "# Print an image just to check if it's a number\n",
        "\n",
        "print (X_train.shape)\n",
        "from matplotlib import pyplot as plt\n",
        "%matplotlib inline\n",
        "plt.imshow(X_train[2])\n",
        "\n",
        "print('Image size : ' + str(X_train[5].shape))"
      ],
      "execution_count": 0,
      "outputs": [
        {
          "output_type": "stream",
          "text": [
            "(60000, 28, 28)\n",
            "Image size : (28, 28)\n"
          ],
          "name": "stdout"
        },
        {
          "output_type": "display_data",
          "data": {
            "image/png": "[encoded data removed]",
            "text/plain": [
              "<Figure size 432x288 with 1 Axes>"
            ]
          },
          "metadata": {
            "tags": []
          }
        }
      ]
    },
    {
      "cell_type": "code",
      "metadata": {
        "id": "4F359kzrB0xL",
        "colab_type": "code",
        "outputId": "df8bc440-20da-4f10-abdb-1c3b1b908ece",
        "colab": {
          "base_uri": "https://localhost:8080/",
          "height": 34
        }
      },
      "source": [
        "# Re-shape image to a tensor with 1 channel(Black/White)\n",
        "# https://datascience.stackexchange.com/questions/11704/reshaping-of-data-for-deep-learning-using-keras\n",
        "# The Convolution2D layers in Keras however, are designed to work with 3 dimensions per example. \n",
        "# They have 4-dimensional inputs and outputs. This covers colour images (nb_samples, nb_channels, width, height), \n",
        "# but more importantly, it covers deeper layers of the network, where each example has become a set of feature maps i.e. (nb_samples, nb_features, width, height)\n",
        "\n",
        "X_train = X_train.reshape(X_train.shape[0], 28, 28,1)\n",
        "X_test = X_test.reshape(X_test.shape[0], 28, 28,1)\n",
        "\n",
        "print(X_train.shape)"
      ],
      "execution_count": 0,
      "outputs": [
        {
          "output_type": "stream",
          "text": [
            "(60000, 28, 28, 1)\n"
          ],
          "name": "stdout"
        }
      ]
    },
    {
      "cell_type": "code",
      "metadata": {
        "id": "xGizgXzFFHon",
        "colab_type": "code",
        "colab": {}
      },
      "source": [
        "# Convert to float and divide by 255 in order to normalize data between 0 and 1\n",
        "\n",
        "X_train = X_train.astype('float32')\n",
        "X_test = X_test.astype('float32')\n",
        "X_train /= 255\n",
        "X_test /= 255"
      ],
      "execution_count": 0,
      "outputs": []
    },
    {
      "cell_type": "code",
      "metadata": {
        "id": "7wVu-_FvFeos",
        "colab_type": "code",
        "outputId": "30ad79d7-00e6-410c-8450-bc6dd0db0a18",
        "colab": {
          "base_uri": "https://localhost:8080/",
          "height": 34
        }
      },
      "source": [
        "y_train[:10]"
      ],
      "execution_count": 0,
      "outputs": [
        {
          "output_type": "execute_result",
          "data": {
            "text/plain": [
              "array([5, 0, 4, 1, 9, 2, 1, 3, 1, 4], dtype=uint8)"
            ]
          },
          "metadata": {
            "tags": []
          },
          "execution_count": 73
        }
      ]
    },
    {
      "cell_type": "code",
      "metadata": {
        "id": "FOyMybCgFiGU",
        "colab_type": "code",
        "colab": {}
      },
      "source": [
        "# Convert 1-dimensional class arrays to 10-dimensional class matrices\n",
        "Y_train = np_utils.to_categorical(y_train, 10)\n",
        "Y_test = np_utils.to_categorical(y_test, 10)"
      ],
      "execution_count": 0,
      "outputs": []
    },
    {
      "cell_type": "code",
      "metadata": {
        "id": "Y5Yux71qFozk",
        "colab_type": "code",
        "outputId": "761b4b71-9635-4d61-9cca-02fd36c17530",
        "colab": {
          "base_uri": "https://localhost:8080/",
          "height": 185
        }
      },
      "source": [
        "Y_train[:10]"
      ],
      "execution_count": 0,
      "outputs": [
        {
          "output_type": "execute_result",
          "data": {
            "text/plain": [
              "array([[0., 0., 0., 0., 0., 1., 0., 0., 0., 0.],\n",
              "       [1., 0., 0., 0., 0., 0., 0., 0., 0., 0.],\n",
              "       [0., 0., 0., 0., 1., 0., 0., 0., 0., 0.],\n",
              "       [0., 1., 0., 0., 0., 0., 0., 0., 0., 0.],\n",
              "       [0., 0., 0., 0., 0., 0., 0., 0., 0., 1.],\n",
              "       [0., 0., 1., 0., 0., 0., 0., 0., 0., 0.],\n",
              "       [0., 1., 0., 0., 0., 0., 0., 0., 0., 0.],\n",
              "       [0., 0., 0., 1., 0., 0., 0., 0., 0., 0.],\n",
              "       [0., 1., 0., 0., 0., 0., 0., 0., 0., 0.],\n",
              "       [0., 0., 0., 0., 1., 0., 0., 0., 0., 0.]], dtype=float32)"
            ]
          },
          "metadata": {
            "tags": []
          },
          "execution_count": 75
        }
      ]
    },
    {
      "cell_type": "code",
      "metadata": {
        "id": "Ebjk2-9pFu6r",
        "colab_type": "code",
        "colab": {}
      },
      "source": [
        "from keras.layers import Activation\n",
        "model = Sequential()\n",
        "\n",
        " \n",
        "model.add(Convolution2D(32, 3, 3, activation='relu', input_shape=(28,28,1)))\n",
        "model.add(Convolution2D(10, 1, activation='relu'))\n",
        "model.add(Convolution2D(10, 26))\n",
        "model.add(Flatten())\n",
        "model.add(Activation('softmax'))"
      ],
      "execution_count": 0,
      "outputs": []
    },
    {
      "cell_type": "code",
      "metadata": {
        "id": "LiO2Q-6HF1k7",
        "colab_type": "code",
        "outputId": "4398a9b6-de37-4329-d02b-e929672ab0bb",
        "colab": {
          "base_uri": "https://localhost:8080/",
          "height": 319
        }
      },
      "source": [
        "model.summary()"
      ],
      "execution_count": 0,
      "outputs": [
        {
          "output_type": "stream",
          "text": [
            "Model: \"sequential_1\"\n",
            "_________________________________________________________________\n",
            "Layer (type)                 Output Shape              Param #   \n",
            "=================================================================\n",
            "conv2d_1 (Conv2D)            (None, 26, 26, 32)        320       \n",
            "_________________________________________________________________\n",
            "conv2d_2 (Conv2D)            (None, 26, 26, 10)        330       \n",
            "_________________________________________________________________\n",
            "conv2d_3 (Conv2D)            (None, 1, 1, 10)          67610     \n",
            "_________________________________________________________________\n",
            "flatten_1 (Flatten)          (None, 10)                0         \n",
            "_________________________________________________________________\n",
            "activation_1 (Activation)    (None, 10)                0         \n",
            "=================================================================\n",
            "Total params: 68,260\n",
            "Trainable params: 68,260\n",
            "Non-trainable params: 0\n",
            "_________________________________________________________________\n"
          ],
          "name": "stdout"
        }
      ]
    },
    {
      "cell_type": "code",
      "metadata": {
        "id": "noc7L_5cF5Nr",
        "colab_type": "code",
        "colab": {}
      },
      "source": [
        "model.compile(loss='categorical_crossentropy',\n",
        "             optimizer='adam',\n",
        "             metrics=['accuracy'])"
      ],
      "execution_count": 0,
      "outputs": []
    },
    {
      "cell_type": "code",
      "metadata": {
        "id": "V3V1Hgd_F9qF",
        "colab_type": "code",
        "outputId": "cd2b0da9-8d48-4141-9264-84e45ade41f9",
        "colab": {
          "base_uri": "https://localhost:8080/",
          "height": 742
        }
      },
      "source": [
        "model.fit(X_train, Y_train, batch_size=32, nb_epoch=10, verbose=1)"
      ],
      "execution_count": 0,
      "outputs": [
        {
          "output_type": "stream",
          "text": [
            "WARNING:tensorflow:From /usr/local/lib/python3.6/dist-packages/tensorflow_core/python/ops/math_grad.py:1424: where (from tensorflow.python.ops.array_ops) is deprecated and will be removed in a future version.\n",
            "Instructions for updating:\n",
            "Use tf.where in 2.0, which has the same broadcast rule as np.where\n",
            "WARNING:tensorflow:From /usr/local/lib/python3.6/dist-packages/keras/backend/tensorflow_backend.py:1033: The name tf.assign_add is deprecated. Please use tf.compat.v1.assign_add instead.\n",
            "\n"
          ],
          "name": "stdout"
        },
        {
          "output_type": "stream",
          "text": [
            "/usr/local/lib/python3.6/dist-packages/ipykernel_launcher.py:1: UserWarning: The `nb_epoch` argument in `fit` has been renamed `epochs`.\n",
            "  \"\"\"Entry point for launching an IPython kernel.\n"
          ],
          "name": "stderr"
        },
        {
          "output_type": "stream",
          "text": [
            "WARNING:tensorflow:From /usr/local/lib/python3.6/dist-packages/keras/backend/tensorflow_backend.py:1020: The name tf.assign is deprecated. Please use tf.compat.v1.assign instead.\n",
            "\n",
            "WARNING:tensorflow:From /usr/local/lib/python3.6/dist-packages/keras/backend/tensorflow_backend.py:3005: The name tf.Session is deprecated. Please use tf.compat.v1.Session instead.\n",
            "\n",
            "Epoch 1/10\n",
            "WARNING:tensorflow:From /usr/local/lib/python3.6/dist-packages/keras/backend/tensorflow_backend.py:190: The name tf.get_default_session is deprecated. Please use tf.compat.v1.get_default_session instead.\n",
            "\n",
            "WARNING:tensorflow:From /usr/local/lib/python3.6/dist-packages/keras/backend/tensorflow_backend.py:197: The name tf.ConfigProto is deprecated. Please use tf.compat.v1.ConfigProto instead.\n",
            "\n",
            "WARNING:tensorflow:From /usr/local/lib/python3.6/dist-packages/keras/backend/tensorflow_backend.py:207: The name tf.global_variables is deprecated. Please use tf.compat.v1.global_variables instead.\n",
            "\n",
            "WARNING:tensorflow:From /usr/local/lib/python3.6/dist-packages/keras/backend/tensorflow_backend.py:216: The name tf.is_variable_initialized is deprecated. Please use tf.compat.v1.is_variable_initialized instead.\n",
            "\n",
            "WARNING:tensorflow:From /usr/local/lib/python3.6/dist-packages/keras/backend/tensorflow_backend.py:223: The name tf.variables_initializer is deprecated. Please use tf.compat.v1.variables_initializer instead.\n",
            "\n",
            "60000/60000 [==============================] - 15s 246us/step - loss: 0.1986 - acc: 0.9426\n",
            "Epoch 2/10\n",
            "60000/60000 [==============================] - 7s 120us/step - loss: 0.0746 - acc: 0.9777\n",
            "Epoch 3/10\n",
            "60000/60000 [==============================] - 7s 120us/step - loss: 0.0550 - acc: 0.9830\n",
            "Epoch 4/10\n",
            "60000/60000 [==============================] - 7s 120us/step - loss: 0.0432 - acc: 0.9860\n",
            "Epoch 5/10\n",
            "60000/60000 [==============================] - 7s 119us/step - loss: 0.0360 - acc: 0.9885\n",
            "Epoch 6/10\n",
            "60000/60000 [==============================] - 7s 120us/step - loss: 0.0286 - acc: 0.9908\n",
            "Epoch 7/10\n",
            "60000/60000 [==============================] - 7s 122us/step - loss: 0.0231 - acc: 0.9923\n",
            "Epoch 8/10\n",
            "60000/60000 [==============================] - 7s 120us/step - loss: 0.0176 - acc: 0.9946\n",
            "Epoch 9/10\n",
            "60000/60000 [==============================] - 8s 127us/step - loss: 0.0147 - acc: 0.9953\n",
            "Epoch 10/10\n",
            "60000/60000 [==============================] - 7s 122us/step - loss: 0.0130 - acc: 0.9959\n"
          ],
          "name": "stdout"
        },
        {
          "output_type": "execute_result",
          "data": {
            "text/plain": [
              "<keras.callbacks.History at 0x7f698a476d68>"
            ]
          },
          "metadata": {
            "tags": []
          },
          "execution_count": 13
        }
      ]
    },
    {
      "cell_type": "code",
      "metadata": {
        "id": "ppaCZCAIGhoK",
        "colab_type": "code",
        "colab": {}
      },
      "source": [
        "score = model.evaluate(X_test, Y_test, verbose=0)"
      ],
      "execution_count": 0,
      "outputs": []
    },
    {
      "cell_type": "code",
      "metadata": {
        "id": "hQVhxFsPGmDT",
        "colab_type": "code",
        "outputId": "022e85e2-1305-4743-83a0-3a3af6a6fdf1",
        "colab": {
          "base_uri": "https://localhost:8080/",
          "height": 34
        }
      },
      "source": [
        "print(score)"
      ],
      "execution_count": 0,
      "outputs": [
        {
          "output_type": "stream",
          "text": [
            "[0.08028831945906495, 0.9803]\n"
          ],
          "name": "stdout"
        }
      ]
    },
    {
      "cell_type": "code",
      "metadata": {
        "id": "L82ZkRmfGqo7",
        "colab_type": "code",
        "colab": {}
      },
      "source": [
        "y_pred = model.predict(X_test)"
      ],
      "execution_count": 0,
      "outputs": []
    },
    {
      "cell_type": "code",
      "metadata": {
        "id": "rg2MHdgYGxqk",
        "colab_type": "code",
        "outputId": "52685820-d1f0-46eb-e845-e10d86bfac97",
        "colab": {
          "base_uri": "https://localhost:8080/",
          "height": 487
        }
      },
      "source": [
        "print(y_pred[:9])\n",
        "print(y_test[:9])"
      ],
      "execution_count": 0,
      "outputs": [
        {
          "output_type": "stream",
          "text": [
            "[[1.01747568e-18 1.45716654e-18 6.95848674e-12 4.25954063e-08\n",
            "  1.92996524e-21 9.55466466e-17 4.09596628e-32 1.00000000e+00\n",
            "  5.07196975e-12 2.64556155e-11]\n",
            " [8.29881519e-13 1.14739555e-12 1.00000000e+00 5.75438609e-14\n",
            "  4.05101709e-22 1.28463717e-16 5.86776183e-09 1.57983053e-22\n",
            "  2.68632616e-11 2.49259478e-19]\n",
            " [5.69900891e-08 9.99699712e-01 3.94958590e-07 6.83352619e-09\n",
            "  2.82430789e-04 5.36728137e-08 1.74730026e-08 7.51701236e-06\n",
            "  9.91232719e-06 1.21809807e-09]\n",
            " [9.99999523e-01 2.79658185e-19 4.17604213e-07 6.64224331e-14\n",
            "  9.67750197e-18 1.87383190e-13 7.80092865e-11 4.70214631e-11\n",
            "  5.58515907e-12 1.01595905e-10]\n",
            " [1.09718829e-14 3.29788810e-16 1.71076313e-11 9.49600884e-11\n",
            "  9.99999762e-01 2.16774853e-15 9.60804041e-14 1.04412217e-11\n",
            "  2.58952804e-10 2.58158451e-07]\n",
            " [2.16947987e-10 9.99834299e-01 8.58085603e-09 2.74332335e-09\n",
            "  1.54467289e-05 7.46809281e-11 1.59796634e-10 1.40762757e-04\n",
            "  9.35835942e-06 3.54398566e-10]\n",
            " [4.95372361e-19 4.08065422e-12 5.24396038e-09 3.01771390e-12\n",
            "  9.98401105e-01 1.05016482e-10 1.23178712e-18 6.82707180e-09\n",
            "  1.59824989e-03 6.50792401e-07]\n",
            " [3.46161336e-25 1.62345621e-14 1.79661597e-09 1.08782960e-09\n",
            "  2.73696896e-05 3.56416940e-09 2.51309133e-18 1.93339688e-13\n",
            "  5.96015241e-07 9.99971986e-01]\n",
            " [3.32969837e-14 1.80222393e-24 1.49974734e-19 2.61149109e-15\n",
            "  7.38545960e-17 9.99876499e-01 1.23472375e-04 6.16092528e-25\n",
            "  6.95997038e-10 6.37866116e-13]]\n",
            "[7 2 1 0 4 1 4 9 5]\n"
          ],
          "name": "stdout"
        }
      ]
    },
    {
      "cell_type": "code",
      "metadata": {
        "id": "DsRqu4RXG3BT",
        "colab_type": "code",
        "colab": {}
      },
      "source": [
        "layer_dict = dict([(layer.name, layer) for layer in model.layers])"
      ],
      "execution_count": 0,
      "outputs": []
    },
    {
      "cell_type": "code",
      "metadata": {
        "id": "7fjvasxVG9FK",
        "colab_type": "code",
        "colab": {}
      },
      "source": [
        "import numpy as np\n",
        "from matplotlib import pyplot as plt\n",
        "from keras import backend as K\n",
        "%matplotlib inline\n",
        "# util function to convert a tensor into a valid image\n",
        "def deprocess_image(x):\n",
        "    # normalize tensor: center on 0., ensure std is 0.1\n",
        "    x -= x.mean()\n",
        "    x /= (x.std() + 1e-5)\n",
        "    x *= 0.1\n",
        "\n",
        "    # clip to [0, 1]\n",
        "    x += 0.5\n",
        "    x = np.clip(x, 0, 1)\n",
        "\n",
        "    # convert to RGB array\n",
        "    x *= 255\n",
        "    #x = x.transpose((1, 2, 0))\n",
        "    x = np.clip(x, 0, 255).astype('uint8')\n",
        "    return x\n",
        "\n",
        "def vis_img_in_filter(img = np.array(X_train[2]).reshape((1, 28, 28, 1)).astype(np.float64), \n",
        "                      layer_name = 'conv2d_1'):\n",
        "    layer_output = layer_dict[layer_name].output\n",
        "    img_ascs = list()\n",
        "    for filter_index in range(layer_output.shape[3]):\n",
        "        # build a loss function that maximizes the activation\n",
        "        # of the nth filter of the layer considered\n",
        "        loss = K.mean(layer_output[:, :, :, filter_index])\n",
        "\n",
        "        # compute the gradient of the input picture wrt this loss\n",
        "        grads = K.gradients(loss, model.input)[0]\n",
        "\n",
        "        # normalization trick: we normalize the gradient\n",
        "        grads /= (K.sqrt(K.mean(K.square(grads))) + 1e-5)\n",
        "\n",
        "        # this function returns the loss and grads given the input picture\n",
        "        iterate = K.function([model.input], [loss, grads])\n",
        "\n",
        "        # step size for gradient ascent\n",
        "        step = 5.\n",
        "\n",
        "        img_asc = np.array(img)\n",
        "        # run gradient ascent for 20 steps\n",
        "        for i in range(20):\n",
        "            loss_value, grads_value = iterate([img_asc])\n",
        "            img_asc += grads_value * step\n",
        "\n",
        "        img_asc = img_asc[0]\n",
        "        img_ascs.append(deprocess_image(img_asc).reshape((28, 28)))\n",
        "        \n",
        "    if layer_output.shape[3] >= 35:\n",
        "        plot_x, plot_y = 6, 6\n",
        "    elif layer_output.shape[3] >= 23:\n",
        "        plot_x, plot_y = 4, 6\n",
        "    elif layer_output.shape[3] >= 11:\n",
        "        plot_x, plot_y = 2, 6\n",
        "    else:\n",
        "        plot_x, plot_y = 1, 2\n",
        "    fig, ax = plt.subplots(plot_x, plot_y, figsize = (12, 12))\n",
        "    ax[0, 0].imshow(img.reshape((28, 28)), cmap = 'gray')\n",
        "    ax[0, 0].set_title('Input image')\n",
        "    fig.suptitle('Input image and %s filters' % (layer_name,))\n",
        "    fig.tight_layout(pad = 0.3, rect = [0, 0, 0.9, 0.9])\n",
        "    for (x, y) in [(i, j) for i in range(plot_x) for j in range(plot_y)]:\n",
        "        if x == 0 and y == 0:\n",
        "            continue\n",
        "        ax[x, y].imshow(img_ascs[x * plot_y + y - 1], cmap = 'gray')\n",
        "        ax[x, y].set_title('filter %d' % (x * plot_y + y - 1))\n"
      ],
      "execution_count": 0,
      "outputs": []
    },
    {
      "cell_type": "code",
      "metadata": {
        "id": "w61qPi2m22CY",
        "colab_type": "code",
        "outputId": "84e637ff-811b-48a6-eff0-56f77dad032d",
        "colab": {
          "base_uri": "https://localhost:8080/",
          "height": 837
        }
      },
      "source": [
        "# Display image in a layer\n",
        "vis_img_in_filter(layer_name = 'conv2d_1')"
      ],
      "execution_count": 0,
      "outputs": [
        {
          "output_type": "display_data",
          "data": {
            "image/png": "[encoded data removed]",
            "text/plain": [
              "<Figure size 864x864 with 24 Axes>"
            ]
          },
          "metadata": {
            "tags": []
          }
        }
      ]
    },
    {
      "cell_type": "markdown",
      "metadata": {
        "id": "lfm3_LLT5BbB",
        "colab_type": "text"
      },
      "source": [
        "## Iteration - Second\n",
        "- Increase colvolution layer to 10"
      ]
    },
    {
      "cell_type": "code",
      "metadata": {
        "id": "s0ipbQW95YQC",
        "colab_type": "code",
        "outputId": "7b73d497-a056-4d5e-f460-7c1329d1df8d",
        "colab": {
          "base_uri": "https://localhost:8080/",
          "height": 70
        }
      },
      "source": [
        "from keras.layers import Activation\n",
        "model = Sequential()\n",
        " \n",
        "model.add(Convolution2D(32, 3, 3, activation='relu', input_shape=(28,28,1))) # 26\n",
        "\n",
        "model.add(Convolution2D(64, 3, activation='relu')) # 24\n",
        "model.add(Convolution2D(128, 3, activation='relu')) # 22\n",
        "model.add(Convolution2D(256, 3, activation='relu')) # 20\n",
        "model.add(Convolution2D(512, 3, activation='relu')) # 18\n",
        "model.add(Convolution2D(1024, 3, activation='relu')) # 16\n",
        "\n",
        "model.add(Convolution2D(10, 1, activation='relu')) # 16 \n",
        "model.add(Convolution2D(10, 16))\n",
        "model.add(Flatten())\n",
        "model.add(Activation('softmax'))"
      ],
      "execution_count": 0,
      "outputs": [
        {
          "output_type": "stream",
          "text": [
            "/usr/local/lib/python3.6/dist-packages/ipykernel_launcher.py:4: UserWarning: Update your `Conv2D` call to the Keras 2 API: `Conv2D(32, (3, 3), activation=\"relu\", input_shape=(28, 28, 1...)`\n",
            "  after removing the cwd from sys.path.\n"
          ],
          "name": "stderr"
        }
      ]
    },
    {
      "cell_type": "code",
      "metadata": {
        "id": "sXo_JMk66efu",
        "colab_type": "code",
        "outputId": "72a4619b-1dde-4b14-9cc7-f74d1f54aed6",
        "colab": {
          "base_uri": "https://localhost:8080/",
          "height": 487
        }
      },
      "source": [
        "model.summary()"
      ],
      "execution_count": 0,
      "outputs": [
        {
          "output_type": "stream",
          "text": [
            "Model: \"sequential_3\"\n",
            "_________________________________________________________________\n",
            "Layer (type)                 Output Shape              Param #   \n",
            "=================================================================\n",
            "conv2d_12 (Conv2D)           (None, 26, 26, 32)        320       \n",
            "_________________________________________________________________\n",
            "conv2d_13 (Conv2D)           (None, 24, 24, 64)        18496     \n",
            "_________________________________________________________________\n",
            "conv2d_14 (Conv2D)           (None, 22, 22, 128)       73856     \n",
            "_________________________________________________________________\n",
            "conv2d_15 (Conv2D)           (None, 20, 20, 256)       295168    \n",
            "_________________________________________________________________\n",
            "conv2d_16 (Conv2D)           (None, 18, 18, 512)       1180160   \n",
            "_________________________________________________________________\n",
            "conv2d_17 (Conv2D)           (None, 16, 16, 1024)      4719616   \n",
            "_________________________________________________________________\n",
            "conv2d_18 (Conv2D)           (None, 16, 16, 10)        10250     \n",
            "_________________________________________________________________\n",
            "conv2d_19 (Conv2D)           (None, 1, 1, 10)          25610     \n",
            "_________________________________________________________________\n",
            "flatten_3 (Flatten)          (None, 10)                0         \n",
            "_________________________________________________________________\n",
            "activation_3 (Activation)    (None, 10)                0         \n",
            "=================================================================\n",
            "Total params: 6,323,476\n",
            "Trainable params: 6,323,476\n",
            "Non-trainable params: 0\n",
            "_________________________________________________________________\n"
          ],
          "name": "stdout"
        }
      ]
    },
    {
      "cell_type": "code",
      "metadata": {
        "id": "YAMEwseE6j_r",
        "colab_type": "code",
        "colab": {}
      },
      "source": [
        "model.compile(loss='categorical_crossentropy',\n",
        "             optimizer='adam',\n",
        "             metrics=['accuracy'])"
      ],
      "execution_count": 0,
      "outputs": []
    },
    {
      "cell_type": "code",
      "metadata": {
        "id": "d1nSjR-b6k0X",
        "colab_type": "code",
        "outputId": "7a05be6f-c706-434c-a61a-67df1b3ffc25",
        "colab": {
          "base_uri": "https://localhost:8080/",
          "height": 423
        }
      },
      "source": [
        "model.fit(X_train, Y_train, batch_size=32, nb_epoch=10, verbose=1)"
      ],
      "execution_count": 0,
      "outputs": [
        {
          "output_type": "stream",
          "text": [
            "Epoch 1/10\n",
            "  160/60000 [..............................] - ETA: 56s - loss: 0.0060 - acc: 1.0000"
          ],
          "name": "stdout"
        },
        {
          "output_type": "stream",
          "text": [
            "/usr/local/lib/python3.6/dist-packages/ipykernel_launcher.py:1: UserWarning: The `nb_epoch` argument in `fit` has been renamed `epochs`.\n",
            "  \"\"\"Entry point for launching an IPython kernel.\n"
          ],
          "name": "stderr"
        },
        {
          "output_type": "stream",
          "text": [
            "60000/60000 [==============================] - 52s 861us/step - loss: 0.0139 - acc: 0.9955\n",
            "Epoch 2/10\n",
            "60000/60000 [==============================] - 52s 862us/step - loss: 0.0149 - acc: 0.9952\n",
            "Epoch 3/10\n",
            "60000/60000 [==============================] - 51s 856us/step - loss: 0.0124 - acc: 0.9958\n",
            "Epoch 4/10\n",
            "60000/60000 [==============================] - 51s 858us/step - loss: 0.0094 - acc: 0.9968\n",
            "Epoch 5/10\n",
            "60000/60000 [==============================] - 52s 858us/step - loss: 0.0134 - acc: 0.9958\n",
            "Epoch 6/10\n",
            "60000/60000 [==============================] - 51s 855us/step - loss: 0.0112 - acc: 0.9963\n",
            "Epoch 7/10\n",
            "60000/60000 [==============================] - 51s 853us/step - loss: 0.0099 - acc: 0.9970\n",
            "Epoch 8/10\n",
            "60000/60000 [==============================] - 51s 854us/step - loss: 0.0090 - acc: 0.9973\n",
            "Epoch 9/10\n",
            "60000/60000 [==============================] - 51s 853us/step - loss: 0.0109 - acc: 0.9966\n",
            "Epoch 10/10\n",
            "60000/60000 [==============================] - 51s 854us/step - loss: 0.0116 - acc: 0.9965\n"
          ],
          "name": "stdout"
        },
        {
          "output_type": "execute_result",
          "data": {
            "text/plain": [
              "<keras.callbacks.History at 0x7f6900b271d0>"
            ]
          },
          "metadata": {
            "tags": []
          },
          "execution_count": 48
        }
      ]
    },
    {
      "cell_type": "code",
      "metadata": {
        "id": "4BLEnVnQ6q4m",
        "colab_type": "code",
        "colab": {}
      },
      "source": [
        "score = model.evaluate(X_test, Y_test, verbose=0)"
      ],
      "execution_count": 0,
      "outputs": []
    },
    {
      "cell_type": "code",
      "metadata": {
        "id": "puSk9C9Y6rhT",
        "colab_type": "code",
        "outputId": "d658989f-32a4-4698-e55b-f9ec7df4f004",
        "colab": {
          "base_uri": "https://localhost:8080/",
          "height": 34
        }
      },
      "source": [
        "print(score)"
      ],
      "execution_count": 0,
      "outputs": [
        {
          "output_type": "stream",
          "text": [
            "[0.0607988017551791, 0.989]\n"
          ],
          "name": "stdout"
        }
      ]
    },
    {
      "cell_type": "markdown",
      "metadata": {
        "colab_type": "text",
        "id": "3oSoy-8CIVZr"
      },
      "source": [
        "## Iteration - Third\n",
        "- Increase No of epochs(10->30)\n",
        "- No of layers and other things same as previous iteration"
      ]
    },
    {
      "cell_type": "code",
      "metadata": {
        "colab_type": "code",
        "outputId": "3c7c2c58-afad-40b6-bfaa-5dc1919b0a89",
        "id": "iUsgcVXJIwV0",
        "colab": {
          "base_uri": "https://localhost:8080/",
          "height": 70
        }
      },
      "source": [
        "from keras.layers import Activation\n",
        "model = Sequential()\n",
        " \n",
        "model.add(Convolution2D(32, 3, 3, activation='relu', input_shape=(28,28,1))) # 26\n",
        "\n",
        "model.add(Convolution2D(64, 3, activation='relu')) # 24\n",
        "model.add(Convolution2D(128, 3, activation='relu')) # 22\n",
        "model.add(Convolution2D(256, 3, activation='relu')) # 20\n",
        "model.add(Convolution2D(512, 3, activation='relu')) # 18\n",
        "model.add(Convolution2D(1024, 3, activation='relu')) # 16\n",
        "\n",
        "model.add(Convolution2D(10, 1, activation='relu')) # 16 \n",
        "model.add(Convolution2D(10, 16))\n",
        "model.add(Flatten())\n",
        "model.add(Activation('softmax'))"
      ],
      "execution_count": 0,
      "outputs": [
        {
          "output_type": "stream",
          "text": [
            "/usr/local/lib/python3.6/dist-packages/ipykernel_launcher.py:4: UserWarning: Update your `Conv2D` call to the Keras 2 API: `Conv2D(32, (3, 3), activation=\"relu\", input_shape=(28, 28, 1...)`\n",
            "  after removing the cwd from sys.path.\n"
          ],
          "name": "stderr"
        }
      ]
    },
    {
      "cell_type": "code",
      "metadata": {
        "id": "2MyOumJ8I8-X",
        "colab_type": "code",
        "outputId": "30975686-2551-4b93-b96c-1fdb174a8111",
        "colab": {
          "base_uri": "https://localhost:8080/",
          "height": 487
        }
      },
      "source": [
        "model.summary()"
      ],
      "execution_count": 0,
      "outputs": [
        {
          "output_type": "stream",
          "text": [
            "Model: \"sequential_5\"\n",
            "_________________________________________________________________\n",
            "Layer (type)                 Output Shape              Param #   \n",
            "=================================================================\n",
            "conv2d_28 (Conv2D)           (None, 26, 26, 32)        320       \n",
            "_________________________________________________________________\n",
            "conv2d_29 (Conv2D)           (None, 24, 24, 64)        18496     \n",
            "_________________________________________________________________\n",
            "conv2d_30 (Conv2D)           (None, 22, 22, 128)       73856     \n",
            "_________________________________________________________________\n",
            "conv2d_31 (Conv2D)           (None, 20, 20, 256)       295168    \n",
            "_________________________________________________________________\n",
            "conv2d_32 (Conv2D)           (None, 18, 18, 512)       1180160   \n",
            "_________________________________________________________________\n",
            "conv2d_33 (Conv2D)           (None, 16, 16, 1024)      4719616   \n",
            "_________________________________________________________________\n",
            "conv2d_34 (Conv2D)           (None, 16, 16, 10)        10250     \n",
            "_________________________________________________________________\n",
            "conv2d_35 (Conv2D)           (None, 1, 1, 10)          25610     \n",
            "_________________________________________________________________\n",
            "flatten_5 (Flatten)          (None, 10)                0         \n",
            "_________________________________________________________________\n",
            "activation_5 (Activation)    (None, 10)                0         \n",
            "=================================================================\n",
            "Total params: 6,323,476\n",
            "Trainable params: 6,323,476\n",
            "Non-trainable params: 0\n",
            "_________________________________________________________________\n"
          ],
          "name": "stdout"
        }
      ]
    },
    {
      "cell_type": "code",
      "metadata": {
        "id": "Nllnqoh0JDWo",
        "colab_type": "code",
        "colab": {}
      },
      "source": [
        "model.compile(loss='categorical_crossentropy',\n",
        "             optimizer='adam',\n",
        "             metrics=['accuracy'])"
      ],
      "execution_count": 0,
      "outputs": []
    },
    {
      "cell_type": "code",
      "metadata": {
        "id": "Du6FjAtrJGc2",
        "colab_type": "code",
        "outputId": "5c2d9106-ed66-4d4e-f523-0b2a1aaf49ee",
        "colab": {
          "base_uri": "https://localhost:8080/",
          "height": 1000
        }
      },
      "source": [
        "model.fit(X_train, Y_train, batch_size=32, nb_epoch=30, verbose=1)"
      ],
      "execution_count": 0,
      "outputs": [
        {
          "output_type": "stream",
          "text": [
            "/usr/local/lib/python3.6/dist-packages/ipykernel_launcher.py:1: UserWarning: The `nb_epoch` argument in `fit` has been renamed `epochs`.\n",
            "  \"\"\"Entry point for launching an IPython kernel.\n"
          ],
          "name": "stderr"
        },
        {
          "output_type": "stream",
          "text": [
            "Epoch 1/30\n",
            "60000/60000 [==============================] - 53s 888us/step - loss: 0.1590 - acc: 0.9523\n",
            "Epoch 2/30\n",
            "60000/60000 [==============================] - 52s 868us/step - loss: 0.0627 - acc: 0.9811\n",
            "Epoch 3/30\n",
            "60000/60000 [==============================] - 52s 863us/step - loss: 0.0487 - acc: 0.9853\n",
            "Epoch 4/30\n",
            "60000/60000 [==============================] - 51s 857us/step - loss: 0.0395 - acc: 0.9873\n",
            "Epoch 5/30\n",
            "60000/60000 [==============================] - 51s 855us/step - loss: 0.0333 - acc: 0.9895\n",
            "Epoch 6/30\n",
            "60000/60000 [==============================] - 51s 856us/step - loss: 0.0278 - acc: 0.9911\n",
            "Epoch 7/30\n",
            "60000/60000 [==============================] - 51s 854us/step - loss: 0.0219 - acc: 0.9929\n",
            "Epoch 8/30\n",
            "60000/60000 [==============================] - 51s 853us/step - loss: 0.0201 - acc: 0.9933\n",
            "Epoch 9/30\n",
            "60000/60000 [==============================] - 51s 850us/step - loss: 0.0166 - acc: 0.9946\n",
            "Epoch 10/30\n",
            "60000/60000 [==============================] - 51s 852us/step - loss: 0.0165 - acc: 0.9940\n",
            "Epoch 11/30\n",
            "60000/60000 [==============================] - 51s 851us/step - loss: 0.0128 - acc: 0.9958\n",
            "Epoch 12/30\n",
            "60000/60000 [==============================] - 51s 854us/step - loss: 0.0132 - acc: 0.9958\n",
            "Epoch 13/30\n",
            "60000/60000 [==============================] - 51s 852us/step - loss: 0.0108 - acc: 0.9963\n",
            "Epoch 14/30\n",
            "60000/60000 [==============================] - 51s 851us/step - loss: 0.0110 - acc: 0.9963\n",
            "Epoch 15/30\n",
            "60000/60000 [==============================] - 51s 852us/step - loss: 0.0101 - acc: 0.9969\n",
            "Epoch 16/30\n",
            "60000/60000 [==============================] - 51s 852us/step - loss: 0.0123 - acc: 0.9962\n",
            "Epoch 17/30\n",
            "60000/60000 [==============================] - 51s 850us/step - loss: 0.0102 - acc: 0.9969\n",
            "Epoch 18/30\n",
            "60000/60000 [==============================] - 51s 853us/step - loss: 0.0101 - acc: 0.9970\n",
            "Epoch 19/30\n",
            "60000/60000 [==============================] - 51s 850us/step - loss: 0.0093 - acc: 0.9972\n",
            "Epoch 20/30\n",
            "60000/60000 [==============================] - 51s 851us/step - loss: 0.0098 - acc: 0.9969\n",
            "Epoch 21/30\n",
            "60000/60000 [==============================] - 51s 851us/step - loss: 0.0080 - acc: 0.9976\n",
            "Epoch 22/30\n",
            "60000/60000 [==============================] - 51s 852us/step - loss: 0.0101 - acc: 0.9968\n",
            "Epoch 23/30\n",
            "60000/60000 [==============================] - 51s 850us/step - loss: 0.0101 - acc: 0.9970\n",
            "Epoch 24/30\n",
            "60000/60000 [==============================] - 51s 852us/step - loss: 0.0066 - acc: 0.9980\n",
            "Epoch 25/30\n",
            "60000/60000 [==============================] - 51s 852us/step - loss: 0.0093 - acc: 0.9974\n",
            "Epoch 26/30\n",
            "60000/60000 [==============================] - 51s 852us/step - loss: 0.0083 - acc: 0.9975\n",
            "Epoch 27/30\n",
            "60000/60000 [==============================] - 51s 850us/step - loss: 0.0095 - acc: 0.9971\n",
            "Epoch 28/30\n",
            "60000/60000 [==============================] - 51s 857us/step - loss: 0.0102 - acc: 0.9972\n",
            "Epoch 29/30\n",
            "60000/60000 [==============================] - 52s 862us/step - loss: 0.0071 - acc: 0.9979\n",
            "Epoch 30/30\n",
            "60000/60000 [==============================] - 52s 861us/step - loss: 0.0095 - acc: 0.9973\n"
          ],
          "name": "stdout"
        },
        {
          "output_type": "execute_result",
          "data": {
            "text/plain": [
              "<keras.callbacks.History at 0x7f69006c9358>"
            ]
          },
          "metadata": {
            "tags": []
          },
          "execution_count": 79
        }
      ]
    },
    {
      "cell_type": "code",
      "metadata": {
        "id": "BhIC7P2BJKy_",
        "colab_type": "code",
        "colab": {}
      },
      "source": [
        "score = model.evaluate(X_test, Y_test, verbose=0)"
      ],
      "execution_count": 0,
      "outputs": []
    },
    {
      "cell_type": "code",
      "metadata": {
        "id": "yjwaKGJFJMwY",
        "colab_type": "code",
        "outputId": "4bbb6fbe-6611-4129-b2ee-e540c5e23504",
        "colab": {
          "base_uri": "https://localhost:8080/",
          "height": 34
        }
      },
      "source": [
        "print(score)"
      ],
      "execution_count": 0,
      "outputs": [
        {
          "output_type": "stream",
          "text": [
            "[0.05172299045256509, 0.9908]\n"
          ],
          "name": "stdout"
        }
      ]
    },
    {
      "cell_type": "code",
      "metadata": {
        "id": "dyyz5xXIcMLQ",
        "colab_type": "code",
        "colab": {}
      },
      "source": [
        "y_pred = model.predict(X_test)"
      ],
      "execution_count": 0,
      "outputs": []
    },
    {
      "cell_type": "code",
      "metadata": {
        "id": "Ikv7GDmCcTEm",
        "colab_type": "code",
        "outputId": "73c2db9d-cecb-4cb9-a644-33e3590da7fc",
        "colab": {
          "base_uri": "https://localhost:8080/",
          "height": 487
        }
      },
      "source": [
        "print(y_pred[:9])\n",
        "print(y_test[:9])"
      ],
      "execution_count": 0,
      "outputs": [
        {
          "output_type": "stream",
          "text": [
            "[[1.26609128e-24 7.35410632e-29 4.57749522e-16 3.28229015e-15\n",
            "  1.03791419e-36 3.21803466e-28 0.00000000e+00 1.00000000e+00\n",
            "  1.29795506e-26 9.20722167e-18]\n",
            " [4.41465251e-13 5.82438807e-16 1.00000000e+00 5.36693736e-27\n",
            "  5.67963520e-26 2.31498570e-33 4.49163855e-20 4.01374074e-32\n",
            "  4.61509025e-22 1.98274702e-36]\n",
            " [1.84225679e-17 1.00000000e+00 2.13056739e-10 9.80493899e-23\n",
            "  3.42681890e-11 2.72783454e-14 5.55347358e-16 1.09382199e-11\n",
            "  8.54501542e-14 1.46542439e-15]\n",
            " [1.00000000e+00 1.76787523e-30 1.65920488e-18 2.10323491e-23\n",
            "  1.14657974e-23 2.71220029e-16 2.31957856e-10 9.49522289e-24\n",
            "  1.49606533e-17 4.30021784e-19]\n",
            " [2.11954850e-27 1.25154676e-23 1.35782513e-32 6.58188253e-27\n",
            "  1.00000000e+00 5.78769682e-28 4.63134248e-18 4.11767241e-28\n",
            "  2.15648409e-21 7.26191568e-14]\n",
            " [6.23914315e-19 1.00000000e+00 3.12812692e-11 4.73656296e-25\n",
            "  6.23191039e-12 1.82105265e-15 6.47932890e-17 8.92100738e-13\n",
            "  1.27970402e-13 5.33630672e-15]\n",
            " [0.00000000e+00 5.93112643e-19 5.48347747e-24 5.28902643e-30\n",
            "  1.00000000e+00 6.55209198e-21 3.50179720e-31 1.89907108e-23\n",
            "  2.06607226e-14 9.60040708e-17]\n",
            " [5.28460016e-26 1.73285944e-25 2.47006510e-28 1.89014906e-19\n",
            "  2.11899304e-10 1.30510122e-16 1.20397214e-24 1.25247752e-24\n",
            "  2.18031756e-11 1.00000000e+00]\n",
            " [3.68504614e-30 0.00000000e+00 1.16238205e-36 1.73543007e-28\n",
            "  1.96403930e-37 1.00000000e+00 7.78678344e-10 0.00000000e+00\n",
            "  2.90423272e-16 4.54366595e-20]]\n",
            "[7 2 1 0 4 1 4 9 5]\n"
          ],
          "name": "stdout"
        }
      ]
    },
    {
      "cell_type": "code",
      "metadata": {
        "id": "PaAz5ygpcd-9",
        "colab_type": "code",
        "colab": {}
      },
      "source": [
        "layer_dict = dict([(layer.name, layer) for layer in model.layers])"
      ],
      "execution_count": 0,
      "outputs": []
    },
    {
      "cell_type": "code",
      "metadata": {
        "colab_type": "code",
        "id": "VeAUZ5UtcjEE",
        "colab": {}
      },
      "source": [
        "import numpy as np\n",
        "from matplotlib import pyplot as plt\n",
        "from keras import backend as K\n",
        "%matplotlib inline\n",
        "# util function to convert a tensor into a valid image\n",
        "def deprocess_image(x):\n",
        "    # normalize tensor: center on 0., ensure std is 0.1\n",
        "    x -= x.mean()\n",
        "    x /= (x.std() + 1e-5)\n",
        "    x *= 0.1\n",
        "\n",
        "    # clip to [0, 1]\n",
        "    x += 0.5\n",
        "    x = np.clip(x, 0, 1)\n",
        "\n",
        "    # convert to RGB array\n",
        "    x *= 255\n",
        "    #x = x.transpose((1, 2, 0))\n",
        "    x = np.clip(x, 0, 255).astype('uint8')\n",
        "    return x\n",
        "\n",
        "def vis_img_in_filter(img = np.array(X_train[2]).reshape((1, 28, 28, 1)).astype(np.float64), \n",
        "                      layer_name = 'conv2d_1'):\n",
        "    layer_output = layer_dict[layer_name].output\n",
        "    img_ascs = list()\n",
        "    for filter_index in range(layer_output.shape[3]):\n",
        "        # build a loss function that maximizes the activation\n",
        "        # of the nth filter of the layer considered\n",
        "        loss = K.mean(layer_output[:, :, :, filter_index])\n",
        "\n",
        "        # compute the gradient of the input picture wrt this loss\n",
        "        grads = K.gradients(loss, model.input)[0]\n",
        "\n",
        "        # normalization trick: we normalize the gradient\n",
        "        grads /= (K.sqrt(K.mean(K.square(grads))) + 1e-5)\n",
        "\n",
        "        # this function returns the loss and grads given the input picture\n",
        "        iterate = K.function([model.input], [loss, grads])\n",
        "\n",
        "        # step size for gradient ascent\n",
        "        step = 5.\n",
        "\n",
        "        img_asc = np.array(img)\n",
        "        # run gradient ascent for 20 steps\n",
        "        for i in range(20):\n",
        "            loss_value, grads_value = iterate([img_asc])\n",
        "            img_asc += grads_value * step\n",
        "\n",
        "        img_asc = img_asc[0]\n",
        "        img_ascs.append(deprocess_image(img_asc).reshape((28, 28)))\n",
        "        \n",
        "    if layer_output.shape[3] >= 35:\n",
        "        plot_x, plot_y = 6, 6\n",
        "    elif layer_output.shape[3] >= 23:\n",
        "        plot_x, plot_y = 4, 6\n",
        "    elif layer_output.shape[3] >= 11:\n",
        "        plot_x, plot_y = 2, 6\n",
        "    else:\n",
        "        plot_x, plot_y = 1, 2\n",
        "    fig, ax = plt.subplots(plot_x, plot_y, figsize = (12, 12))\n",
        "    ax[0, 0].imshow(img.reshape((28, 28)), cmap = 'gray')\n",
        "    ax[0, 0].set_title('Input image')\n",
        "    fig.suptitle('Input image and %s filters' % (layer_name,))\n",
        "    fig.tight_layout(pad = 0.3, rect = [0, 0, 0.9, 0.9])\n",
        "    for (x, y) in [(i, j) for i in range(plot_x) for j in range(plot_y)]:\n",
        "        if x == 0 and y == 0:\n",
        "            continue\n",
        "        ax[x, y].imshow(img_ascs[x * plot_y + y - 1], cmap = 'gray')\n",
        "        ax[x, y].set_title('filter %d' % (x * plot_y + y - 1))\n"
      ],
      "execution_count": 0,
      "outputs": []
    },
    {
      "cell_type": "code",
      "metadata": {
        "id": "nc5txPB9cn8Z",
        "colab_type": "code",
        "outputId": "df69d8f5-8a00-4177-cf68-21ca8d9df03e",
        "colab": {
          "base_uri": "https://localhost:8080/",
          "height": 837
        }
      },
      "source": [
        "# Display image in a layer\n",
        "vis_img_in_filter(layer_name = 'conv2d_28')"
      ],
      "execution_count": 0,
      "outputs": [
        {
          "output_type": "display_data",
          "data": {
            "image/png": "[encoded data removed]",
            "text/plain": [
              "<Figure size 864x864 with 24 Axes>"
            ]
          },
          "metadata": {
            "tags": []
          }
        }
      ]
    }
  ]
}